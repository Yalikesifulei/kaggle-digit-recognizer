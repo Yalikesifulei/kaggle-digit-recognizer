{
 "cells": [
  {
   "cell_type": "markdown",
   "metadata": {
    "papermill": {
     "duration": 0.008329,
     "end_time": "2020-12-20T11:03:32.742200",
     "exception": false,
     "start_time": "2020-12-20T11:03:32.733871",
     "status": "completed"
    },
    "tags": []
   },
   "source": [
    "# Modified version of LeNet using image augmentation and lot more layers."
   ]
  },
  {
   "cell_type": "code",
   "execution_count": 1,
   "metadata": {
    "_cell_guid": "b1076dfc-b9ad-4769-8c92-a6c4dae69d19",
    "_uuid": "8f2839f25d086af736a60e9eeb907d3b93b6e0e5",
    "execution": {
     "iopub.execute_input": "2020-12-20T11:03:32.763548Z",
     "iopub.status.busy": "2020-12-20T11:03:32.762919Z",
     "iopub.status.idle": "2020-12-20T11:03:33.719793Z",
     "shell.execute_reply": "2020-12-20T11:03:33.719024Z"
    },
    "papermill": {
     "duration": 0.970365,
     "end_time": "2020-12-20T11:03:33.719908",
     "exception": false,
     "start_time": "2020-12-20T11:03:32.749543",
     "status": "completed"
    },
    "tags": []
   },
   "outputs": [
    {
     "name": "stdout",
     "output_type": "stream",
     "text": [
      "/kaggle/input/digit-recognizer/sample_submission.csv\n",
      "/kaggle/input/digit-recognizer/train.csv\n",
      "/kaggle/input/digit-recognizer/test.csv\n"
     ]
    }
   ],
   "source": [
    "import numpy as np # linear algebra\n",
    "import pandas as pd # data processing, CSV file I/O (e.g. pd.read_csv)\n",
    "import cv2\n",
    "from sklearn.model_selection import train_test_split\n",
    "\n",
    "import os\n",
    "for dirname, _, filenames in os.walk('/kaggle/input'):\n",
    "    for filename in filenames:\n",
    "        print(os.path.join(dirname, filename))"
   ]
  },
  {
   "cell_type": "code",
   "execution_count": 2,
   "metadata": {
    "execution": {
     "iopub.execute_input": "2020-12-20T11:03:33.741378Z",
     "iopub.status.busy": "2020-12-20T11:03:33.740865Z",
     "iopub.status.idle": "2020-12-20T11:03:33.744634Z",
     "shell.execute_reply": "2020-12-20T11:03:33.744124Z"
    },
    "papermill": {
     "duration": 0.016231,
     "end_time": "2020-12-20T11:03:33.744726",
     "exception": false,
     "start_time": "2020-12-20T11:03:33.728495",
     "status": "completed"
    },
    "tags": []
   },
   "outputs": [],
   "source": [
    "def rotate_image(image, angle = 90, scale = 1.0):\n",
    "    h, w = image.shape\n",
    "    M = cv2.getRotationMatrix2D((w/2, h/2), angle, scale)\n",
    "    return cv2.warpAffine(image, M, (w, h))"
   ]
  },
  {
   "cell_type": "code",
   "execution_count": 3,
   "metadata": {
    "execution": {
     "iopub.execute_input": "2020-12-20T11:03:33.764762Z",
     "iopub.status.busy": "2020-12-20T11:03:33.764052Z",
     "iopub.status.idle": "2020-12-20T11:03:53.470479Z",
     "shell.execute_reply": "2020-12-20T11:03:53.469964Z"
    },
    "papermill": {
     "duration": 19.71788,
     "end_time": "2020-12-20T11:03:53.470596",
     "exception": false,
     "start_time": "2020-12-20T11:03:33.752716",
     "status": "completed"
    },
    "tags": []
   },
   "outputs": [],
   "source": [
    "data = np.loadtxt('/kaggle/input/digit-recognizer/train.csv', delimiter = ',', skiprows = 1)"
   ]
  },
  {
   "cell_type": "markdown",
   "metadata": {
    "papermill": {
     "duration": 0.0076,
     "end_time": "2020-12-20T11:03:53.486682",
     "exception": false,
     "start_time": "2020-12-20T11:03:53.479082",
     "status": "completed"
    },
    "tags": []
   },
   "source": [
    "**Using rotate_image to generate more training examples**"
   ]
  },
  {
   "cell_type": "code",
   "execution_count": 4,
   "metadata": {
    "execution": {
     "iopub.execute_input": "2020-12-20T11:03:53.514646Z",
     "iopub.status.busy": "2020-12-20T11:03:53.512464Z",
     "iopub.status.idle": "2020-12-20T11:03:59.020310Z",
     "shell.execute_reply": "2020-12-20T11:03:59.019198Z"
    },
    "papermill": {
     "duration": 5.526096,
     "end_time": "2020-12-20T11:03:59.020519",
     "exception": false,
     "start_time": "2020-12-20T11:03:53.494423",
     "status": "completed"
    },
    "tags": []
   },
   "outputs": [],
   "source": [
    "y = data[:, 0]\n",
    "x = data[:, 1:].reshape(-1, 28, 28)\n",
    "\n",
    "x_train, x_cv, y_train, y_cv = train_test_split(x, y, test_size = 0.1)\n",
    "x_train_temp = x_train.copy()\n",
    "\n",
    "for angle in np.arange(-10, 15, 5):\n",
    "    x_train = np.concatenate((x_train, np.array([rotate_image(image, angle, scale = 1) for image in x_train_temp])))\n",
    "    \n",
    "x_train = x_train.reshape(-1, 28, 28, 1)\n",
    "x_cv = x_cv.reshape(-1, 28, 28, 1)\n",
    "    \n",
    "y_train_temp = y_train.copy()\n",
    "for i in range(x_train.shape[0]//y_train_temp.shape[0] - 1):\n",
    "    y_train = np.concatenate((y_train, y_train_temp))    "
   ]
  },
  {
   "cell_type": "code",
   "execution_count": 5,
   "metadata": {
    "execution": {
     "iopub.execute_input": "2020-12-20T11:03:59.045295Z",
     "iopub.status.busy": "2020-12-20T11:03:59.043527Z",
     "iopub.status.idle": "2020-12-20T11:03:59.047609Z",
     "shell.execute_reply": "2020-12-20T11:03:59.047126Z"
    },
    "papermill": {
     "duration": 0.018169,
     "end_time": "2020-12-20T11:03:59.047695",
     "exception": false,
     "start_time": "2020-12-20T11:03:59.029526",
     "status": "completed"
    },
    "tags": []
   },
   "outputs": [
    {
     "name": "stdout",
     "output_type": "stream",
     "text": [
      "initial train shape: (37800, 28, 28)\n",
      "new train shape: (226800, 28, 28, 1)\n",
      "Got 6 times more images\n"
     ]
    }
   ],
   "source": [
    "print(f'initial train shape: {x_train_temp.shape}')\n",
    "print(f'new train shape: {x_train.shape}')\n",
    "print(f'Got {x_train.shape[0] // x_train_temp.shape[0]} times more images')"
   ]
  },
  {
   "cell_type": "code",
   "execution_count": 6,
   "metadata": {
    "execution": {
     "iopub.execute_input": "2020-12-20T11:03:59.070191Z",
     "iopub.status.busy": "2020-12-20T11:03:59.069696Z",
     "iopub.status.idle": "2020-12-20T11:04:04.498266Z",
     "shell.execute_reply": "2020-12-20T11:04:04.497317Z"
    },
    "papermill": {
     "duration": 5.441866,
     "end_time": "2020-12-20T11:04:04.498443",
     "exception": false,
     "start_time": "2020-12-20T11:03:59.056577",
     "status": "completed"
    },
    "tags": []
   },
   "outputs": [
    {
     "name": "stdout",
     "output_type": "stream",
     "text": [
      "Num GPUs Available:  1\n"
     ]
    }
   ],
   "source": [
    "import tensorflow as tf\n",
    "from tensorflow.keras import Model\n",
    "from tensorflow.keras.models import Sequential\n",
    "from tensorflow.keras.layers import Dense, Flatten, Conv2D, AveragePooling2D, MaxPooling2D, Dropout, BatchNormalization\n",
    "print(\"Num GPUs Available: \", len(tf.config.experimental.list_physical_devices('GPU')))"
   ]
  },
  {
   "cell_type": "code",
   "execution_count": 7,
   "metadata": {
    "execution": {
     "iopub.execute_input": "2020-12-20T11:04:04.536108Z",
     "iopub.status.busy": "2020-12-20T11:04:04.535320Z",
     "iopub.status.idle": "2020-12-20T12:20:36.550153Z",
     "shell.execute_reply": "2020-12-20T12:20:36.550619Z"
    },
    "papermill": {
     "duration": 4592.042832,
     "end_time": "2020-12-20T12:20:36.550757",
     "exception": false,
     "start_time": "2020-12-20T11:04:04.507925",
     "status": "completed"
    },
    "tags": []
   },
   "outputs": [
    {
     "name": "stdout",
     "output_type": "stream",
     "text": [
      "Epoch 1/100\n",
      "7088/7088 [==============================] - 46s 6ms/step - loss: 0.3121 - accuracy: 0.9143 - val_loss: 0.0478 - val_accuracy: 0.9869\n",
      "Epoch 2/100\n",
      "7088/7088 [==============================] - 46s 6ms/step - loss: 0.1057 - accuracy: 0.9765 - val_loss: 0.0683 - val_accuracy: 0.9826\n",
      "Epoch 3/100\n",
      "7088/7088 [==============================] - 45s 6ms/step - loss: 0.0713 - accuracy: 0.9847 - val_loss: 0.0504 - val_accuracy: 0.9907\n",
      "Epoch 4/100\n",
      "7088/7088 [==============================] - 44s 6ms/step - loss: 0.0582 - accuracy: 0.9878 - val_loss: 0.0412 - val_accuracy: 0.9924\n",
      "Epoch 5/100\n",
      "7088/7088 [==============================] - 45s 6ms/step - loss: 0.0472 - accuracy: 0.9904 - val_loss: 0.0421 - val_accuracy: 0.9921\n",
      "Epoch 6/100\n",
      "7088/7088 [==============================] - 45s 6ms/step - loss: 0.0396 - accuracy: 0.9920 - val_loss: 0.0415 - val_accuracy: 0.9924\n",
      "Epoch 7/100\n",
      "7088/7088 [==============================] - 47s 7ms/step - loss: 0.0364 - accuracy: 0.9927 - val_loss: 0.0577 - val_accuracy: 0.9919\n",
      "Epoch 8/100\n",
      "7088/7088 [==============================] - 44s 6ms/step - loss: 0.0303 - accuracy: 0.9938 - val_loss: 0.0425 - val_accuracy: 0.9931\n",
      "Epoch 9/100\n",
      "7088/7088 [==============================] - 46s 6ms/step - loss: 0.0280 - accuracy: 0.9942 - val_loss: 0.0599 - val_accuracy: 0.9926\n",
      "Epoch 10/100\n",
      "7088/7088 [==============================] - 47s 7ms/step - loss: 0.0257 - accuracy: 0.9948 - val_loss: 0.0455 - val_accuracy: 0.9940\n",
      "Epoch 11/100\n",
      "7088/7088 [==============================] - 45s 6ms/step - loss: 0.0243 - accuracy: 0.9950 - val_loss: 0.0586 - val_accuracy: 0.9910\n",
      "Epoch 12/100\n",
      "7088/7088 [==============================] - 45s 6ms/step - loss: 0.0226 - accuracy: 0.9954 - val_loss: 0.0604 - val_accuracy: 0.9919\n",
      "Epoch 13/100\n",
      "7088/7088 [==============================] - 47s 7ms/step - loss: 0.0212 - accuracy: 0.9958 - val_loss: 0.0610 - val_accuracy: 0.9929\n",
      "Epoch 14/100\n",
      "7088/7088 [==============================] - 47s 7ms/step - loss: 0.0202 - accuracy: 0.9962 - val_loss: 0.0554 - val_accuracy: 0.9931\n",
      "Epoch 15/100\n",
      "7088/7088 [==============================] - 47s 7ms/step - loss: 0.0187 - accuracy: 0.9963 - val_loss: 0.0576 - val_accuracy: 0.9929\n",
      "Epoch 16/100\n",
      "7088/7088 [==============================] - 45s 6ms/step - loss: 0.0174 - accuracy: 0.9966 - val_loss: 0.0601 - val_accuracy: 0.9926\n",
      "Epoch 17/100\n",
      "7088/7088 [==============================] - 45s 6ms/step - loss: 0.0169 - accuracy: 0.9967 - val_loss: 0.0579 - val_accuracy: 0.9936\n",
      "Epoch 18/100\n",
      "7088/7088 [==============================] - 46s 6ms/step - loss: 0.0145 - accuracy: 0.9969 - val_loss: 0.0579 - val_accuracy: 0.9945\n",
      "Epoch 19/100\n",
      "7088/7088 [==============================] - 46s 6ms/step - loss: 0.0156 - accuracy: 0.9970 - val_loss: 0.0537 - val_accuracy: 0.9950\n",
      "Epoch 20/100\n",
      "7088/7088 [==============================] - 45s 6ms/step - loss: 0.0158 - accuracy: 0.9969 - val_loss: 0.0608 - val_accuracy: 0.9940\n",
      "Epoch 21/100\n",
      "7088/7088 [==============================] - 46s 7ms/step - loss: 0.0137 - accuracy: 0.9973 - val_loss: 0.0655 - val_accuracy: 0.9936\n",
      "Epoch 22/100\n",
      "7088/7088 [==============================] - 46s 7ms/step - loss: 0.0149 - accuracy: 0.9971 - val_loss: 0.0623 - val_accuracy: 0.9950\n",
      "Epoch 23/100\n",
      "7088/7088 [==============================] - 45s 6ms/step - loss: 0.0120 - accuracy: 0.9975 - val_loss: 0.0623 - val_accuracy: 0.9936\n",
      "Epoch 24/100\n",
      "7088/7088 [==============================] - 47s 7ms/step - loss: 0.0121 - accuracy: 0.9975 - val_loss: 0.0642 - val_accuracy: 0.9940\n",
      "Epoch 25/100\n",
      "7088/7088 [==============================] - 43s 6ms/step - loss: 0.0126 - accuracy: 0.9974 - val_loss: 0.0685 - val_accuracy: 0.9936\n",
      "Epoch 26/100\n",
      "7088/7088 [==============================] - 48s 7ms/step - loss: 0.0120 - accuracy: 0.9975 - val_loss: 0.0645 - val_accuracy: 0.9948\n",
      "Epoch 27/100\n",
      "7088/7088 [==============================] - 48s 7ms/step - loss: 0.0124 - accuracy: 0.9976 - val_loss: 0.0683 - val_accuracy: 0.9936\n",
      "Epoch 28/100\n",
      "7088/7088 [==============================] - 44s 6ms/step - loss: 0.0120 - accuracy: 0.9976 - val_loss: 0.0752 - val_accuracy: 0.9938\n",
      "Epoch 29/100\n",
      "7088/7088 [==============================] - 48s 7ms/step - loss: 0.0122 - accuracy: 0.9977 - val_loss: 0.0709 - val_accuracy: 0.9933\n",
      "Epoch 30/100\n",
      "7088/7088 [==============================] - 47s 7ms/step - loss: 0.0097 - accuracy: 0.9980 - val_loss: 0.0989 - val_accuracy: 0.9912\n",
      "Epoch 31/100\n",
      "7088/7088 [==============================] - 44s 6ms/step - loss: 0.0108 - accuracy: 0.9980 - val_loss: 0.0810 - val_accuracy: 0.9933\n",
      "Epoch 32/100\n",
      "7088/7088 [==============================] - 49s 7ms/step - loss: 0.0114 - accuracy: 0.9978 - val_loss: 0.0978 - val_accuracy: 0.9919\n",
      "Epoch 33/100\n",
      "7088/7088 [==============================] - 45s 6ms/step - loss: 0.0100 - accuracy: 0.9980 - val_loss: 0.0936 - val_accuracy: 0.9924\n",
      "Epoch 34/100\n",
      "7088/7088 [==============================] - 47s 7ms/step - loss: 0.0109 - accuracy: 0.9979 - val_loss: 0.0855 - val_accuracy: 0.9929\n",
      "Epoch 35/100\n",
      "7088/7088 [==============================] - 44s 6ms/step - loss: 0.0091 - accuracy: 0.9982 - val_loss: 0.0946 - val_accuracy: 0.9924\n",
      "Epoch 36/100\n",
      "7088/7088 [==============================] - 45s 6ms/step - loss: 0.0099 - accuracy: 0.9981 - val_loss: 0.0765 - val_accuracy: 0.9936\n",
      "Epoch 37/100\n",
      "7088/7088 [==============================] - 48s 7ms/step - loss: 0.0093 - accuracy: 0.9981 - val_loss: 0.0739 - val_accuracy: 0.9938\n",
      "Epoch 38/100\n",
      "7088/7088 [==============================] - 43s 6ms/step - loss: 0.0090 - accuracy: 0.9982 - val_loss: 0.0842 - val_accuracy: 0.9924\n",
      "Epoch 39/100\n",
      "7088/7088 [==============================] - 45s 6ms/step - loss: 0.0086 - accuracy: 0.9982 - val_loss: 0.0902 - val_accuracy: 0.9933\n",
      "Epoch 40/100\n",
      "7088/7088 [==============================] - 48s 7ms/step - loss: 0.0086 - accuracy: 0.9983 - val_loss: 0.0990 - val_accuracy: 0.9919\n",
      "Epoch 41/100\n",
      "7088/7088 [==============================] - 44s 6ms/step - loss: 0.0094 - accuracy: 0.9982 - val_loss: 0.0904 - val_accuracy: 0.9931\n",
      "Epoch 42/100\n",
      "7088/7088 [==============================] - 43s 6ms/step - loss: 0.0082 - accuracy: 0.9983 - val_loss: 0.0723 - val_accuracy: 0.9957\n",
      "Epoch 43/100\n",
      "7088/7088 [==============================] - 49s 7ms/step - loss: 0.0084 - accuracy: 0.9984 - val_loss: 0.0666 - val_accuracy: 0.9943\n",
      "Epoch 44/100\n",
      "7088/7088 [==============================] - 44s 6ms/step - loss: 0.0082 - accuracy: 0.9983 - val_loss: 0.0883 - val_accuracy: 0.9938\n",
      "Epoch 45/100\n",
      "7088/7088 [==============================] - 44s 6ms/step - loss: 0.0083 - accuracy: 0.9985 - val_loss: 0.0755 - val_accuracy: 0.9936\n",
      "Epoch 46/100\n",
      "7088/7088 [==============================] - 49s 7ms/step - loss: 0.0078 - accuracy: 0.9984 - val_loss: 0.0797 - val_accuracy: 0.9938\n",
      "Epoch 47/100\n",
      "7088/7088 [==============================] - 43s 6ms/step - loss: 0.0076 - accuracy: 0.9986 - val_loss: 0.0860 - val_accuracy: 0.9938\n",
      "Epoch 48/100\n",
      "7088/7088 [==============================] - 45s 6ms/step - loss: 0.0078 - accuracy: 0.9984 - val_loss: 0.0879 - val_accuracy: 0.9933\n",
      "Epoch 49/100\n",
      "7088/7088 [==============================] - 50s 7ms/step - loss: 0.0085 - accuracy: 0.9983 - val_loss: 0.0861 - val_accuracy: 0.9943\n",
      "Epoch 50/100\n",
      "7088/7088 [==============================] - 44s 6ms/step - loss: 0.0074 - accuracy: 0.9983 - val_loss: 0.0921 - val_accuracy: 0.9936\n",
      "Epoch 51/100\n",
      "7088/7088 [==============================] - 43s 6ms/step - loss: 0.0082 - accuracy: 0.9982 - val_loss: 0.0889 - val_accuracy: 0.9938\n",
      "Epoch 52/100\n",
      "7088/7088 [==============================] - 51s 7ms/step - loss: 0.0077 - accuracy: 0.9984 - val_loss: 0.0911 - val_accuracy: 0.9936\n",
      "Epoch 53/100\n",
      "7088/7088 [==============================] - 44s 6ms/step - loss: 0.0071 - accuracy: 0.9985 - val_loss: 0.0839 - val_accuracy: 0.9940\n",
      "Epoch 54/100\n",
      "7088/7088 [==============================] - 44s 6ms/step - loss: 0.0072 - accuracy: 0.9984 - val_loss: 0.0858 - val_accuracy: 0.9938\n",
      "Epoch 55/100\n",
      "7088/7088 [==============================] - 51s 7ms/step - loss: 0.0067 - accuracy: 0.9987 - val_loss: 0.0878 - val_accuracy: 0.9943\n",
      "Epoch 56/100\n",
      "7088/7088 [==============================] - 44s 6ms/step - loss: 0.0066 - accuracy: 0.9986 - val_loss: 0.0774 - val_accuracy: 0.9940\n",
      "Epoch 57/100\n",
      "7088/7088 [==============================] - 45s 6ms/step - loss: 0.0065 - accuracy: 0.9986 - val_loss: 0.0895 - val_accuracy: 0.9938\n",
      "Epoch 58/100\n",
      "7088/7088 [==============================] - 51s 7ms/step - loss: 0.0075 - accuracy: 0.9986 - val_loss: 0.0858 - val_accuracy: 0.9945\n",
      "Epoch 59/100\n",
      "7088/7088 [==============================] - 43s 6ms/step - loss: 0.0065 - accuracy: 0.9986 - val_loss: 0.0904 - val_accuracy: 0.9938\n",
      "Epoch 60/100\n",
      "7088/7088 [==============================] - 45s 6ms/step - loss: 0.0067 - accuracy: 0.9986 - val_loss: 0.1073 - val_accuracy: 0.9926\n",
      "Epoch 61/100\n",
      "7088/7088 [==============================] - 49s 7ms/step - loss: 0.0064 - accuracy: 0.9987 - val_loss: 0.0936 - val_accuracy: 0.9936\n",
      "Epoch 62/100\n",
      "7088/7088 [==============================] - 47s 7ms/step - loss: 0.0056 - accuracy: 0.9988 - val_loss: 0.0924 - val_accuracy: 0.9943\n",
      "Epoch 63/100\n",
      "7088/7088 [==============================] - 44s 6ms/step - loss: 0.0060 - accuracy: 0.9988 - val_loss: 0.0969 - val_accuracy: 0.9943\n",
      "Epoch 64/100\n",
      "7088/7088 [==============================] - 45s 6ms/step - loss: 0.0062 - accuracy: 0.9987 - val_loss: 0.0963 - val_accuracy: 0.9931\n",
      "Epoch 65/100\n",
      "7088/7088 [==============================] - 50s 7ms/step - loss: 0.0073 - accuracy: 0.9985 - val_loss: 0.1106 - val_accuracy: 0.9921\n",
      "Epoch 66/100\n",
      "7088/7088 [==============================] - 44s 6ms/step - loss: 0.0068 - accuracy: 0.9987 - val_loss: 0.0759 - val_accuracy: 0.9933\n",
      "Epoch 67/100\n",
      "7088/7088 [==============================] - 44s 6ms/step - loss: 0.0058 - accuracy: 0.9989 - val_loss: 0.0930 - val_accuracy: 0.9938\n",
      "Epoch 68/100\n",
      "7088/7088 [==============================] - 52s 7ms/step - loss: 0.0057 - accuracy: 0.9988 - val_loss: 0.0945 - val_accuracy: 0.9933\n",
      "Epoch 69/100\n",
      "7088/7088 [==============================] - 44s 6ms/step - loss: 0.0063 - accuracy: 0.9988 - val_loss: 0.0866 - val_accuracy: 0.9933\n",
      "Epoch 70/100\n",
      "7088/7088 [==============================] - 44s 6ms/step - loss: 0.0057 - accuracy: 0.9987 - val_loss: 0.0907 - val_accuracy: 0.9938\n",
      "Epoch 71/100\n",
      "7088/7088 [==============================] - 44s 6ms/step - loss: 0.0060 - accuracy: 0.9987 - val_loss: 0.0950 - val_accuracy: 0.9931\n",
      "Epoch 72/100\n",
      "7088/7088 [==============================] - 43s 6ms/step - loss: 0.0057 - accuracy: 0.9988 - val_loss: 0.0893 - val_accuracy: 0.9940\n",
      "Epoch 73/100\n",
      "7088/7088 [==============================] - 44s 6ms/step - loss: 0.0056 - accuracy: 0.9987 - val_loss: 0.0850 - val_accuracy: 0.9938\n",
      "Epoch 74/100\n",
      "7088/7088 [==============================] - 54s 8ms/step - loss: 0.0054 - accuracy: 0.9989 - val_loss: 0.0976 - val_accuracy: 0.9943\n",
      "Epoch 75/100\n",
      "7088/7088 [==============================] - 44s 6ms/step - loss: 0.0057 - accuracy: 0.9988 - val_loss: 0.0982 - val_accuracy: 0.9948\n",
      "Epoch 76/100\n",
      "7088/7088 [==============================] - 44s 6ms/step - loss: 0.0061 - accuracy: 0.9987 - val_loss: 0.0921 - val_accuracy: 0.9936\n",
      "Epoch 77/100\n",
      "7088/7088 [==============================] - 44s 6ms/step - loss: 0.0055 - accuracy: 0.9988 - val_loss: 0.0957 - val_accuracy: 0.9940\n",
      "Epoch 78/100\n",
      "7088/7088 [==============================] - 44s 6ms/step - loss: 0.0059 - accuracy: 0.9987 - val_loss: 0.0961 - val_accuracy: 0.9938\n",
      "Epoch 79/100\n",
      "7088/7088 [==============================] - 44s 6ms/step - loss: 0.0058 - accuracy: 0.9988 - val_loss: 0.0823 - val_accuracy: 0.9943\n",
      "Epoch 80/100\n",
      "7088/7088 [==============================] - 53s 8ms/step - loss: 0.0054 - accuracy: 0.9989 - val_loss: 0.0785 - val_accuracy: 0.9943\n",
      "Epoch 81/100\n",
      "7088/7088 [==============================] - 43s 6ms/step - loss: 0.0051 - accuracy: 0.9988 - val_loss: 0.1010 - val_accuracy: 0.9931\n",
      "Epoch 82/100\n",
      "7088/7088 [==============================] - 44s 6ms/step - loss: 0.0060 - accuracy: 0.9988 - val_loss: 0.0896 - val_accuracy: 0.9945\n",
      "Epoch 83/100\n",
      "7088/7088 [==============================] - 44s 6ms/step - loss: 0.0054 - accuracy: 0.9988 - val_loss: 0.1002 - val_accuracy: 0.9938\n",
      "Epoch 84/100\n",
      "7088/7088 [==============================] - 44s 6ms/step - loss: 0.0048 - accuracy: 0.9990 - val_loss: 0.0813 - val_accuracy: 0.9952\n",
      "Epoch 85/100\n",
      "7088/7088 [==============================] - 44s 6ms/step - loss: 0.0053 - accuracy: 0.9988 - val_loss: 0.0940 - val_accuracy: 0.9943\n",
      "Epoch 86/100\n",
      "7088/7088 [==============================] - 55s 8ms/step - loss: 0.0058 - accuracy: 0.9988 - val_loss: 0.0918 - val_accuracy: 0.9940\n",
      "Epoch 87/100\n",
      "7088/7088 [==============================] - 44s 6ms/step - loss: 0.0054 - accuracy: 0.9989 - val_loss: 0.0911 - val_accuracy: 0.9940\n",
      "Epoch 88/100\n",
      "7088/7088 [==============================] - 44s 6ms/step - loss: 0.0053 - accuracy: 0.9988 - val_loss: 0.0990 - val_accuracy: 0.9931\n",
      "Epoch 89/100\n",
      "7088/7088 [==============================] - 43s 6ms/step - loss: 0.0053 - accuracy: 0.9989 - val_loss: 0.0809 - val_accuracy: 0.9940\n",
      "Epoch 90/100\n",
      "7088/7088 [==============================] - 44s 6ms/step - loss: 0.0051 - accuracy: 0.9989 - val_loss: 0.0849 - val_accuracy: 0.9943\n",
      "Epoch 91/100\n",
      "7088/7088 [==============================] - 44s 6ms/step - loss: 0.0057 - accuracy: 0.9988 - val_loss: 0.0987 - val_accuracy: 0.9945\n",
      "Epoch 92/100\n",
      "7088/7088 [==============================] - 54s 8ms/step - loss: 0.0058 - accuracy: 0.9988 - val_loss: 0.0919 - val_accuracy: 0.9943\n",
      "Epoch 93/100\n",
      "7088/7088 [==============================] - 45s 6ms/step - loss: 0.0053 - accuracy: 0.9989 - val_loss: 0.0714 - val_accuracy: 0.9955\n",
      "Epoch 94/100\n",
      "7088/7088 [==============================] - 44s 6ms/step - loss: 0.0045 - accuracy: 0.9989 - val_loss: 0.0691 - val_accuracy: 0.9952\n",
      "Epoch 95/100\n",
      "7088/7088 [==============================] - 44s 6ms/step - loss: 0.0049 - accuracy: 0.9989 - val_loss: 0.0618 - val_accuracy: 0.9957\n",
      "Epoch 96/100\n",
      "7088/7088 [==============================] - 44s 6ms/step - loss: 0.0045 - accuracy: 0.9990 - val_loss: 0.0785 - val_accuracy: 0.9940\n",
      "Epoch 97/100\n",
      "7088/7088 [==============================] - 43s 6ms/step - loss: 0.0050 - accuracy: 0.9989 - val_loss: 0.0756 - val_accuracy: 0.9948\n",
      "Epoch 98/100\n",
      "7088/7088 [==============================] - 51s 7ms/step - loss: 0.0051 - accuracy: 0.9989 - val_loss: 0.0707 - val_accuracy: 0.9957\n",
      "Epoch 99/100\n",
      "7088/7088 [==============================] - 51s 7ms/step - loss: 0.0045 - accuracy: 0.9990 - val_loss: 0.0831 - val_accuracy: 0.9950\n",
      "Epoch 100/100\n",
      "7088/7088 [==============================] - 44s 6ms/step - loss: 0.0048 - accuracy: 0.9990 - val_loss: 0.0914 - val_accuracy: 0.9950\n"
     ]
    },
    {
     "data": {
      "text/plain": [
       "<tensorflow.python.keras.callbacks.History at 0x7fa86dd57c50>"
      ]
     },
     "execution_count": 7,
     "metadata": {},
     "output_type": "execute_result"
    }
   ],
   "source": [
    "YaNet = Sequential(name = 'YaNet')\n",
    "YaNet.add(Conv2D(filters = 32, \n",
    "                 kernel_size = (5, 5),\n",
    "                 kernel_initializer = 'he_uniform',\n",
    "                 padding = 'same', \n",
    "                 activation = 'relu', \n",
    "                 input_shape = (28, 28, 1)))\n",
    "YaNet.add(BatchNormalization())\n",
    "YaNet.add(Conv2D(filters = 32, \n",
    "                 kernel_size = (5, 5),\n",
    "                 kernel_initializer = 'he_uniform',\n",
    "                 padding = 'same', \n",
    "                 activation = 'relu'))\n",
    "YaNet.add(MaxPooling2D())\n",
    "YaNet.add(BatchNormalization())\n",
    "YaNet.add(Conv2D(filters = 64, \n",
    "                 kernel_size = (3, 3),\n",
    "                 kernel_initializer = 'he_uniform',\n",
    "                 padding = 'same', \n",
    "                 activation = 'relu'))\n",
    "YaNet.add(MaxPooling2D())\n",
    "YaNet.add(BatchNormalization())\n",
    "YaNet.add(Conv2D(filters = 128, \n",
    "                 kernel_size = (3, 3), \n",
    "                 kernel_initializer = 'he_uniform',\n",
    "                 padding = 'same', \n",
    "                 activation = 'relu'))\n",
    "YaNet.add(BatchNormalization())\n",
    "YaNet.add(Conv2D(filters = 128, \n",
    "                 kernel_size = (3, 3), \n",
    "                 kernel_initializer = 'he_uniform',\n",
    "                 padding = 'same', \n",
    "                 activation = 'relu'))\n",
    "YaNet.add(MaxPooling2D())\n",
    "YaNet.add(BatchNormalization())\n",
    "YaNet.add(Flatten())\n",
    "YaNet.add(Dense(units = 512, \n",
    "                activation = 'relu'))\n",
    "YaNet.add(Dropout(0.5))\n",
    "YaNet.add(BatchNormalization())\n",
    "YaNet.add(Dense(units = 256, \n",
    "                activation = 'relu'))\n",
    "YaNet.add(Dropout(0.5))\n",
    "YaNet.add(BatchNormalization())\n",
    "YaNet.add(Dense(units = 128, \n",
    "                activation = 'relu'))\n",
    "YaNet.add(Dropout(0.5))\n",
    "YaNet.add(BatchNormalization())\n",
    "YaNet.add(Dense(units = 64, \n",
    "                activation = 'relu'))\n",
    "YaNet.add(Dropout(0.5))\n",
    "YaNet.add(BatchNormalization())\n",
    "YaNet.add(Dense(units = 10, \n",
    "                activation = 'softmax'))\n",
    "\n",
    "YaNet.compile(optimizer = 'adam',\n",
    "              loss = 'sparse_categorical_crossentropy',\n",
    "              metrics = ['accuracy'])\n",
    "\n",
    "YaNet.fit(x_train, y_train, \n",
    "          epochs = 100,\n",
    "          validation_data = (x_cv, y_cv),\n",
    "          use_multiprocessing = True)"
   ]
  },
  {
   "cell_type": "code",
   "execution_count": 8,
   "metadata": {
    "execution": {
     "iopub.execute_input": "2020-12-20T12:21:27.127509Z",
     "iopub.status.busy": "2020-12-20T12:21:27.126648Z",
     "iopub.status.idle": "2020-12-20T12:21:27.143821Z",
     "shell.execute_reply": "2020-12-20T12:21:27.143259Z"
    },
    "papermill": {
     "duration": 25.515641,
     "end_time": "2020-12-20T12:21:27.143916",
     "exception": false,
     "start_time": "2020-12-20T12:21:01.628275",
     "status": "completed"
    },
    "tags": []
   },
   "outputs": [
    {
     "name": "stdout",
     "output_type": "stream",
     "text": [
      "Model: \"YaNet\"\n",
      "_________________________________________________________________\n",
      "Layer (type)                 Output Shape              Param #   \n",
      "=================================================================\n",
      "conv2d (Conv2D)              (None, 28, 28, 32)        832       \n",
      "_________________________________________________________________\n",
      "batch_normalization (BatchNo (None, 28, 28, 32)        128       \n",
      "_________________________________________________________________\n",
      "conv2d_1 (Conv2D)            (None, 28, 28, 32)        25632     \n",
      "_________________________________________________________________\n",
      "max_pooling2d (MaxPooling2D) (None, 14, 14, 32)        0         \n",
      "_________________________________________________________________\n",
      "batch_normalization_1 (Batch (None, 14, 14, 32)        128       \n",
      "_________________________________________________________________\n",
      "conv2d_2 (Conv2D)            (None, 14, 14, 64)        18496     \n",
      "_________________________________________________________________\n",
      "max_pooling2d_1 (MaxPooling2 (None, 7, 7, 64)          0         \n",
      "_________________________________________________________________\n",
      "batch_normalization_2 (Batch (None, 7, 7, 64)          256       \n",
      "_________________________________________________________________\n",
      "conv2d_3 (Conv2D)            (None, 7, 7, 128)         73856     \n",
      "_________________________________________________________________\n",
      "batch_normalization_3 (Batch (None, 7, 7, 128)         512       \n",
      "_________________________________________________________________\n",
      "conv2d_4 (Conv2D)            (None, 7, 7, 128)         147584    \n",
      "_________________________________________________________________\n",
      "max_pooling2d_2 (MaxPooling2 (None, 3, 3, 128)         0         \n",
      "_________________________________________________________________\n",
      "batch_normalization_4 (Batch (None, 3, 3, 128)         512       \n",
      "_________________________________________________________________\n",
      "flatten (Flatten)            (None, 1152)              0         \n",
      "_________________________________________________________________\n",
      "dense (Dense)                (None, 512)               590336    \n",
      "_________________________________________________________________\n",
      "dropout (Dropout)            (None, 512)               0         \n",
      "_________________________________________________________________\n",
      "batch_normalization_5 (Batch (None, 512)               2048      \n",
      "_________________________________________________________________\n",
      "dense_1 (Dense)              (None, 256)               131328    \n",
      "_________________________________________________________________\n",
      "dropout_1 (Dropout)          (None, 256)               0         \n",
      "_________________________________________________________________\n",
      "batch_normalization_6 (Batch (None, 256)               1024      \n",
      "_________________________________________________________________\n",
      "dense_2 (Dense)              (None, 128)               32896     \n",
      "_________________________________________________________________\n",
      "dropout_2 (Dropout)          (None, 128)               0         \n",
      "_________________________________________________________________\n",
      "batch_normalization_7 (Batch (None, 128)               512       \n",
      "_________________________________________________________________\n",
      "dense_3 (Dense)              (None, 64)                8256      \n",
      "_________________________________________________________________\n",
      "dropout_3 (Dropout)          (None, 64)                0         \n",
      "_________________________________________________________________\n",
      "batch_normalization_8 (Batch (None, 64)                256       \n",
      "_________________________________________________________________\n",
      "dense_4 (Dense)              (None, 10)                650       \n",
      "=================================================================\n",
      "Total params: 1,035,242\n",
      "Trainable params: 1,032,554\n",
      "Non-trainable params: 2,688\n",
      "_________________________________________________________________\n"
     ]
    }
   ],
   "source": [
    "YaNet.summary()"
   ]
  },
  {
   "cell_type": "code",
   "execution_count": 9,
   "metadata": {
    "execution": {
     "iopub.execute_input": "2020-12-20T12:22:17.545106Z",
     "iopub.status.busy": "2020-12-20T12:22:17.544433Z",
     "iopub.status.idle": "2020-12-20T12:22:31.498496Z",
     "shell.execute_reply": "2020-12-20T12:22:31.499144Z"
    },
    "papermill": {
     "duration": 39.081402,
     "end_time": "2020-12-20T12:22:31.499333",
     "exception": false,
     "start_time": "2020-12-20T12:21:52.417931",
     "status": "completed"
    },
    "tags": []
   },
   "outputs": [],
   "source": [
    "x_test = np.loadtxt('/kaggle/input/digit-recognizer/test.csv', skiprows = 1, delimiter = ',')\n",
    "x_test = x_test.reshape(-1, 28, 28, 1)"
   ]
  },
  {
   "cell_type": "markdown",
   "metadata": {
    "papermill": {
     "duration": 25.336792,
     "end_time": "2020-12-20T12:23:21.729427",
     "exception": false,
     "start_time": "2020-12-20T12:22:56.392635",
     "status": "completed"
    },
    "tags": []
   },
   "source": [
    "**Making prediction**"
   ]
  },
  {
   "cell_type": "code",
   "execution_count": 10,
   "metadata": {
    "execution": {
     "iopub.execute_input": "2020-12-20T12:24:12.033025Z",
     "iopub.status.busy": "2020-12-20T12:24:12.032049Z",
     "iopub.status.idle": "2020-12-20T12:24:13.670570Z",
     "shell.execute_reply": "2020-12-20T12:24:13.669998Z"
    },
    "papermill": {
     "duration": 26.680198,
     "end_time": "2020-12-20T12:24:13.670678",
     "exception": false,
     "start_time": "2020-12-20T12:23:46.990480",
     "status": "completed"
    },
    "tags": []
   },
   "outputs": [],
   "source": [
    "final_prediction = np.argmax(YaNet.predict(x_test), axis = 1)\n",
    "output = pd.DataFrame({'ImageId': np.arange(1, x_test.shape[0]+1), 'Label': final_prediction})\n",
    "output.to_csv('my_submission.csv', index = False)"
   ]
  }
 ],
 "metadata": {
  "kernelspec": {
   "display_name": "Python 3",
   "language": "python",
   "name": "python3"
  },
  "language_info": {
   "codemirror_mode": {
    "name": "ipython",
    "version": 3
   },
   "file_extension": ".py",
   "mimetype": "text/x-python",
   "name": "python",
   "nbconvert_exporter": "python",
   "pygments_lexer": "ipython3",
   "version": "3.7.6"
  },
  "papermill": {
   "duration": 4871.682731,
   "end_time": "2020-12-20T12:24:40.624524",
   "environment_variables": {},
   "exception": null,
   "input_path": "__notebook__.ipynb",
   "output_path": "__notebook__.ipynb",
   "parameters": {},
   "start_time": "2020-12-20T11:03:28.941793",
   "version": "2.1.0"
  }
 },
 "nbformat": 4,
 "nbformat_minor": 4
}
